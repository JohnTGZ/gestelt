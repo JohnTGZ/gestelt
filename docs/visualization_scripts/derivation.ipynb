{
 "cells": [
  {
   "cell_type": "code",
   "execution_count": 4,
   "metadata": {},
   "outputs": [],
   "source": [
    "from sympy import Matrix, MatrixSymbol, symbols, simplify, diff\n"
   ]
  },
  {
   "cell_type": "code",
   "execution_count": 5,
   "metadata": {},
   "outputs": [],
   "source": [
    "# r  = symbols('r')\n",
    "# xi_1, xi_2, xi_3  = symbols('xi_1, xi_2, xi_3')\n",
    "\n",
    "xi = MatrixSymbol('xi', 3, 1).as_explicit()\n",
    "# xi = Matrix([[xi_1, xi_2, 0]]).transpose()\n",
    "N = MatrixSymbol('N', 3, 1).as_explicit()\n",
    "# N = Matrix([[0, 0, r]]).transpose()"
   ]
  },
  {
   "cell_type": "code",
   "execution_count": 6,
   "metadata": {},
   "outputs": [
    {
     "data": {
      "text/latex": [
       "$\\displaystyle \\left[\\begin{matrix}\\left[\\begin{matrix}1 - N_{0, 0}^{2}\\\\- N_{0, 0} N_{1, 0}\\\\- N_{0, 0} N_{2, 0}\\end{matrix}\\right]\\\\\\left[\\begin{matrix}- N_{0, 0} N_{1, 0}\\\\1 - N_{1, 0}^{2}\\\\- N_{1, 0} N_{2, 0}\\end{matrix}\\right]\\\\\\left[\\begin{matrix}- N_{0, 0} N_{2, 0}\\\\- N_{1, 0} N_{2, 0}\\\\1 - N_{2, 0}^{2}\\end{matrix}\\right]\\end{matrix}\\right]$"
      ],
      "text/plain": [
       "[[[[1 - N[0, 0]**2], [-N[0, 0]*N[1, 0]], [-N[0, 0]*N[2, 0]]]], [[[-N[0, 0]*N[1, 0]], [1 - N[1, 0]**2], [-N[1, 0]*N[2, 0]]]], [[[-N[0, 0]*N[2, 0]], [-N[1, 0]*N[2, 0]], [1 - N[2, 0]**2]]]]"
      ]
     },
     "execution_count": 6,
     "metadata": {},
     "output_type": "execute_result"
    }
   ],
   "source": [
    "Q = xi - (xi).dot(N) * N\n",
    "\n",
    "diff(Q,xi)"
   ]
  },
  {
   "cell_type": "code",
   "execution_count": 10,
   "metadata": {},
   "outputs": [
    {
     "data": {
      "text/latex": [
       "$\\displaystyle 1 - N^{2}$"
      ],
      "text/plain": [
       "1 - N**2"
      ]
     },
     "execution_count": 10,
     "metadata": {},
     "output_type": "execute_result"
    }
   ],
   "source": [
    "xi  = symbols('xi')\n",
    "N  = symbols('N')\n",
    "Q = xi - (xi)*(N) * N\n",
    "\n",
    "diff(Q,xi)"
   ]
  },
  {
   "cell_type": "code",
   "execution_count": null,
   "metadata": {},
   "outputs": [],
   "source": []
  }
 ],
 "metadata": {
  "kernelspec": {
   "display_name": "Python 3",
   "language": "python",
   "name": "python3"
  },
  "language_info": {
   "codemirror_mode": {
    "name": "ipython",
    "version": 3
   },
   "file_extension": ".py",
   "mimetype": "text/x-python",
   "name": "python",
   "nbconvert_exporter": "python",
   "pygments_lexer": "ipython3",
   "version": "3.8.10"
  }
 },
 "nbformat": 4,
 "nbformat_minor": 2
}
