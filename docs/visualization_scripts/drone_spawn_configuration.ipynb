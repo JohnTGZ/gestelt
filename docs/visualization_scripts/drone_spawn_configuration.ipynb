{
 "cells": [
  {
   "cell_type": "code",
   "execution_count": 15,
   "metadata": {},
   "outputs": [
    {
     "data": {
      "text/plain": [
       "(-2.75, 2.75)"
      ]
     },
     "execution_count": 15,
     "metadata": {},
     "output_type": "execute_result"
    }
   ],
   "source": [
    "%matplotlib widget\n",
    "import numpy as np\n",
    "import matplotlib.pyplot as plt\n",
    "\n",
    "# Room size\n",
    "rm_size_x = 5.5\n",
    "rm_size_y = 5.5\n",
    "rm_buffer = 0.5 # Room buffer \n",
    "\n",
    "num_drones = 5\n",
    "\n",
    "# Helper functions\n",
    "def clearAllPlots():\n",
    "    plt.figure().clear()\n",
    "    plt.close()\n",
    "    plt.cla()\n",
    "    plt.clf()\n",
    "\n",
    "\n",
    "\n",
    "\n"
   ]
  },
  {
   "cell_type": "code",
   "execution_count": 24,
   "metadata": {},
   "outputs": [
    {
     "name": "stdout",
     "output_type": "stream",
     "text": [
      "Drone 0 position: [0.0, 2.25]\n",
      "Drone 1 position: [2.1398771616640953, 0.6952882373436318]\n",
      "Drone 2 position: [1.3225168176580648, -1.8202882373436315]\n",
      "Drone 3 position: [-1.3225168176580644, -1.820288237343632]\n",
      "Drone 4 position: [-2.1398771616640957, 0.6952882373436313]\n"
     ]
    },
    {
     "data": {
      "application/vnd.jupyter.widget-view+json": {
       "model_id": "4d60d10183ba4c55a42dbb75e00e58e4",
       "version_major": 2,
       "version_minor": 0
      },
      "image/png": "[encoded data removed]",
      "text/html": [
       "\n",
       "            <div style=\"display: inline-block;\">\n",
       "                <div class=\"jupyter-widgets widget-label\" style=\"text-align: center;\">\n",
       "                    Figure 1\n",
       "                </div>\n",
       "                <img src='data:image/png;base64,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' width=367.0/>\n",
       "            </div>\n",
       "        "
      ],
      "text/plain": [
       "Canvas(toolbar=Toolbar(toolitems=[('Home', 'Reset original view', 'home', 'home'), ('Back', 'Back to previous …"
      ]
     },
     "metadata": {},
     "output_type": "display_data"
    },
    {
     "name": "stderr",
     "output_type": "stream",
     "text": [
      "No such comm: 8fda4da0b77c486cb47354767fab449b\n",
      "No such comm: 8fda4da0b77c486cb47354767fab449b\n",
      "No such comm: 8fda4da0b77c486cb47354767fab449b\n",
      "No such comm: 8fda4da0b77c486cb47354767fab449b\n"
     ]
    }
   ],
   "source": [
    "clearAllPlots()\n",
    "\n",
    "# Plot room size\n",
    "plt.plot([-rm_size_x/2, -rm_size_x/2, rm_size_x/2, rm_size_x/2, -rm_size_x/2], \n",
    "         [-rm_size_y/2, rm_size_y/2, rm_size_y/2, -rm_size_y/2, -rm_size_y/2])\n",
    "\n",
    "# 5 drones pentagonal arrangement\n",
    "diag_length = (rm_size_x/2) - rm_buffer # From pentagon center to tip \n",
    "\n",
    "pos_x = []\n",
    "pos_y = []\n",
    "\n",
    "for i in range(num_drones):\n",
    "    pos_x.append(diag_length * np.sin(i * (2*np.pi/num_drones)))\n",
    "    pos_y.append(diag_length * np.cos(i * (2*np.pi/num_drones)))\n",
    "    print(f\"Drone {i} position: [{pos_x[i]}, {pos_y[i]}]\")\n",
    "\n",
    "plt.scatter(pos_x, pos_y, s=50, alpha=1.0)\n",
    "plt.xlim(-rm_size_x/2 - 0.25, rm_size_x/2 + 0.25)\n",
    "plt.ylim(-rm_size_y/2 - 0.25, rm_size_y/2 + 0.25)\n",
    "\n",
    "plt.show()\n"
   ]
  },
  {
   "cell_type": "code",
   "execution_count": null,
   "metadata": {},
   "outputs": [],
   "source": [
    "\n",
    "# 5 drones forward swap arrangement\n"
   ]
  }
 ],
 "metadata": {
  "kernelspec": {
   "display_name": "Python 3",
   "language": "python",
   "name": "python3"
  },
  "language_info": {
   "codemirror_mode": {
    "name": "ipython",
    "version": 3
   },
   "file_extension": ".py",
   "mimetype": "text/x-python",
   "name": "python",
   "nbconvert_exporter": "python",
   "pygments_lexer": "ipython3",
   "version": "3.8.10"
  }
 },
 "nbformat": 4,
 "nbformat_minor": 2
}
